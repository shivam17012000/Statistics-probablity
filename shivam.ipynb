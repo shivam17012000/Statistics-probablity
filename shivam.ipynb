{
 "cells": [
  {
   "cell_type": "markdown",
   "id": "458c8d20",
   "metadata": {},
   "source": [
    "# Binomial Distribution"
   ]
  },
  {
   "cell_type": "markdown",
   "id": "02f194e7",
   "metadata": {},
   "source": [
    "# Q1\n",
    "If from six to seven in the evening one telephone line in every five is engaged in a conversation: what is the probability that when 10 telephone numbers are chosen at random, only two are in use?\n",
    "* x = 2 , n = 10 , p = 0.2 "
   ]
  },
  {
   "cell_type": "code",
   "execution_count": 2,
   "id": "a87c5904",
   "metadata": {},
   "outputs": [],
   "source": [
    "from scipy.stats import binom,hypergeom,poisson,nbinom,expon,norm\n",
    "import matplotlib.pyplot as plt\n",
    "import pandas as pd\n",
    "import numpy as np"
   ]
  },
  {
   "cell_type": "code",
   "execution_count": 6,
   "id": "fc2bb3a4",
   "metadata": {},
   "outputs": [
    {
     "data": {
      "text/plain": [
       "0.302"
      ]
     },
     "execution_count": 6,
     "metadata": {},
     "output_type": "execute_result"
    }
   ],
   "source": [
    "round(binom.pmf(2,10,0.2),3)"
   ]
  },
  {
   "cell_type": "markdown",
   "id": "a8046a7d",
   "metadata": {},
   "source": [
    "# Q2\n",
    "In the old days, there was a probability of 0.8 of success in any attempt to make a telephone call. (This often depended on the importance of the person making the call, or the operator's curiosity!)\n",
    "Calculate the probability of having 7 successes in 10 attempts.\n",
    "* x = 7 , n = 10 , p = 0.8 "
   ]
  },
  {
   "cell_type": "code",
   "execution_count": 8,
   "id": "3b0c4833",
   "metadata": {},
   "outputs": [
    {
     "data": {
      "text/plain": [
       "0.20132659199999978"
      ]
     },
     "execution_count": 8,
     "metadata": {},
     "output_type": "execute_result"
    }
   ],
   "source": [
    "binom.pmf(7,10,0.8)"
   ]
  },
  {
   "cell_type": "markdown",
   "id": "4205618e",
   "metadata": {},
   "source": [
    "# Q3\n",
    "A box of candies has many different colors in it.There is a 15% chance of getting a pink candy . what is the probability that exactly 4 candies in a box are pink out of 10?\n",
    "* x = 4 , n = 10 , p = 0.15"
   ]
  },
  {
   "cell_type": "code",
   "execution_count": 9,
   "id": "eeee0237",
   "metadata": {},
   "outputs": [
    {
     "data": {
      "text/plain": [
       "0.04009570787988276"
      ]
     },
     "execution_count": 9,
     "metadata": {},
     "output_type": "execute_result"
    }
   ],
   "source": [
    "binom.pmf(4,10,0.15)"
   ]
  },
  {
   "cell_type": "markdown",
   "id": "c50b2678",
   "metadata": {},
   "source": [
    "# Q4\n",
    "* n = 6 , p = 0.3"
   ]
  },
  {
   "cell_type": "markdown",
   "id": "ec4f2c70",
   "metadata": {},
   "source": [
    "* P(X = 2)"
   ]
  },
  {
   "cell_type": "code",
   "execution_count": 10,
   "id": "4de80f34",
   "metadata": {},
   "outputs": [
    {
     "data": {
      "text/plain": [
       "0.3241349999999999"
      ]
     },
     "execution_count": 10,
     "metadata": {},
     "output_type": "execute_result"
    }
   ],
   "source": [
    "binom.pmf(2,6,0.3)"
   ]
  },
  {
   "cell_type": "markdown",
   "id": "7e8ed662",
   "metadata": {},
   "source": [
    "* P(X = 3)"
   ]
  },
  {
   "cell_type": "code",
   "execution_count": 13,
   "id": "c6eb2308",
   "metadata": {},
   "outputs": [
    {
     "data": {
      "text/plain": [
       "0.1852199999999999"
      ]
     },
     "execution_count": 13,
     "metadata": {},
     "output_type": "execute_result"
    }
   ],
   "source": [
    "binom.pmf(3,6,0.3)"
   ]
  },
  {
   "cell_type": "markdown",
   "id": "64216e4e",
   "metadata": {},
   "source": [
    "* P(1<X<=5)"
   ]
  },
  {
   "cell_type": "code",
   "execution_count": 14,
   "id": "46300741",
   "metadata": {},
   "outputs": [
    {
     "data": {
      "text/plain": [
       "0.5790959999999998"
      ]
     },
     "execution_count": 14,
     "metadata": {},
     "output_type": "execute_result"
    }
   ],
   "source": [
    "binom.pmf(2,6,0.3)+binom.pmf(3,6,0.3)+binom.pmf(4,6,0.3)+binom.pmf(5,6,0.3)"
   ]
  },
  {
   "cell_type": "markdown",
   "id": "c412e108",
   "metadata": {},
   "source": [
    "# Q5\n",
    "* n = 5 , p = 0.75"
   ]
  },
  {
   "cell_type": "code",
   "execution_count": 15,
   "id": "af141033",
   "metadata": {},
   "outputs": [
    {
     "data": {
      "text/plain": [
       "0.8964843749999999"
      ]
     },
     "execution_count": 15,
     "metadata": {},
     "output_type": "execute_result"
    }
   ],
   "source": [
    "binom.pmf(3,5,0.75)+binom.pmf(4,5,0.75)+binom.pmf(5,5,0.75)"
   ]
  },
  {
   "cell_type": "markdown",
   "id": "aedfd590",
   "metadata": {},
   "source": [
    "# Q6\n",
    "* x = 0 , n = 5 , p = 0.03"
   ]
  },
  {
   "cell_type": "markdown",
   "id": "6c53a8a0",
   "metadata": {},
   "source": [
    "* None of the five patients experience side effects."
   ]
  },
  {
   "cell_type": "code",
   "execution_count": 17,
   "id": "6320b1fa",
   "metadata": {},
   "outputs": [
    {
     "data": {
      "text/plain": [
       "0.8587340256999999"
      ]
     },
     "execution_count": 17,
     "metadata": {},
     "output_type": "execute_result"
    }
   ],
   "source": [
    "binom.pmf(0,5,0.03)"
   ]
  },
  {
   "cell_type": "markdown",
   "id": "b465ec38",
   "metadata": {},
   "source": [
    "* At least two experience side effects."
   ]
  },
  {
   "cell_type": "code",
   "execution_count": 18,
   "id": "b0d708b4",
   "metadata": {},
   "outputs": [
    {
     "data": {
      "text/plain": [
       "0.008472052800000074"
      ]
     },
     "execution_count": 18,
     "metadata": {},
     "output_type": "execute_result"
    }
   ],
   "source": [
    "1-(binom.pmf(0,5,0.03)+binom.pmf(1,5,0.03))"
   ]
  },
  {
   "cell_type": "markdown",
   "id": "90777a7a",
   "metadata": {},
   "source": [
    "# Q8\n",
    "* x = 3 , n = 5 , p = 0.75"
   ]
  },
  {
   "cell_type": "code",
   "execution_count": 20,
   "id": "34164d42",
   "metadata": {},
   "outputs": [
    {
     "data": {
      "text/plain": [
       "0.26367187499999983"
      ]
     },
     "execution_count": 20,
     "metadata": {},
     "output_type": "execute_result"
    }
   ],
   "source": [
    "binom.pmf(3,5,0.75)"
   ]
  },
  {
   "cell_type": "markdown",
   "id": "6a67ab85",
   "metadata": {},
   "source": [
    "# Q9\n",
    "* x = 7 , n = 10 , p = 0.8"
   ]
  },
  {
   "cell_type": "code",
   "execution_count": 21,
   "id": "bdbde90b",
   "metadata": {},
   "outputs": [
    {
     "data": {
      "text/plain": [
       "0.20132659199999978"
      ]
     },
     "execution_count": 21,
     "metadata": {},
     "output_type": "execute_result"
    }
   ],
   "source": [
    "binom.pmf(7,10,0.8)"
   ]
  },
  {
   "cell_type": "markdown",
   "id": "6ed9514e",
   "metadata": {},
   "source": [
    "# Q10\n",
    "* x = 4 , n = 6 , p = 0.25"
   ]
  },
  {
   "cell_type": "markdown",
   "id": "fcf19585",
   "metadata": {},
   "source": [
    "* exactly 4 successes"
   ]
  },
  {
   "cell_type": "code",
   "execution_count": 23,
   "id": "faf9e9ab",
   "metadata": {},
   "outputs": [
    {
     "data": {
      "text/plain": [
       "0.03295898437499997"
      ]
     },
     "execution_count": 23,
     "metadata": {},
     "output_type": "execute_result"
    }
   ],
   "source": [
    "binom.pmf(4,6,0.25)"
   ]
  },
  {
   "cell_type": "markdown",
   "id": "52121b0d",
   "metadata": {},
   "source": [
    "* at least one success?"
   ]
  },
  {
   "cell_type": "code",
   "execution_count": 25,
   "id": "7afe8fc0",
   "metadata": {},
   "outputs": [
    {
     "data": {
      "text/plain": [
       "0.822021484375"
      ]
     },
     "execution_count": 25,
     "metadata": {},
     "output_type": "execute_result"
    }
   ],
   "source": [
    "1-(binom.pmf(0,6,0.25))"
   ]
  },
  {
   "cell_type": "markdown",
   "id": "37f404ed",
   "metadata": {},
   "source": [
    "# Q11\n",
    "* x = 5 , n = 20 , p = 0.3"
   ]
  },
  {
   "cell_type": "code",
   "execution_count": 22,
   "id": "b7e11637",
   "metadata": {},
   "outputs": [
    {
     "data": {
      "text/plain": [
       "0.17886305056987964"
      ]
     },
     "execution_count": 22,
     "metadata": {},
     "output_type": "execute_result"
    }
   ],
   "source": [
    "binom.pmf(5,20,0.3)"
   ]
  },
  {
   "cell_type": "markdown",
   "id": "d5e78b08",
   "metadata": {},
   "source": [
    "# Geometric Distribution"
   ]
  },
  {
   "cell_type": "markdown",
   "id": "0c6ad8c6",
   "metadata": {},
   "source": [
    "# Q1\n",
    "Suppose you are playing a game of darts. The probability of success is 0.4. What is the probability that you will hit the bullseye on the 3rd try?"
   ]
  },
  {
   "cell_type": "code",
   "execution_count": 26,
   "id": "1b94084d",
   "metadata": {},
   "outputs": [
    {
     "data": {
      "text/plain": [
       "0.14400000000000002"
      ]
     },
     "execution_count": 26,
     "metadata": {},
     "output_type": "execute_result"
    }
   ],
   "source": [
    "nbinom.pmf(k=2, n=1, p=0.4)"
   ]
  },
  {
   "cell_type": "markdown",
   "id": "0b7caebe",
   "metadata": {},
   "source": [
    "# Q2\n",
    "A light bulb manufacturing factory finds 3 in every 60 light bulbs defective. What is the probability that the first defective light bulb with be found when the 6th one is tested?"
   ]
  },
  {
   "cell_type": "code",
   "execution_count": 27,
   "id": "aa0af04f",
   "metadata": {},
   "outputs": [
    {
     "data": {
      "text/plain": [
       "0.038689046874999994"
      ]
     },
     "execution_count": 27,
     "metadata": {},
     "output_type": "execute_result"
    }
   ],
   "source": [
    "nbinom.pmf(k=5, n=1, p=3/60)"
   ]
  },
  {
   "cell_type": "markdown",
   "id": "f0829efc",
   "metadata": {},
   "source": [
    "# Q3\n",
    "Suppose Max owns a lightbulb manufacturing company and determines 3 out of every 75 bulbs are defective.what is the probability that max will find the first faulty lightbulb on the 6th one that he tested?"
   ]
  },
  {
   "cell_type": "code",
   "execution_count": 28,
   "id": "7d178414",
   "metadata": {},
   "outputs": [
    {
     "data": {
      "text/plain": [
       "0.032614907904"
      ]
     },
     "execution_count": 28,
     "metadata": {},
     "output_type": "execute_result"
    }
   ],
   "source": [
    "nbinom.pmf(k=5, n=1, p=3/75)"
   ]
  },
  {
   "cell_type": "markdown",
   "id": "4e80c10f",
   "metadata": {},
   "source": [
    "# Q4\n",
    "In a class there are 35% students  doing their homework regularly.if from this class students are selected randomly ,what is the probability that the 5th student’s homework is the 1st that has completed their homework?"
   ]
  },
  {
   "cell_type": "code",
   "execution_count": 29,
   "id": "8053e346",
   "metadata": {},
   "outputs": [
    {
     "data": {
      "text/plain": [
       "0.0624771875"
      ]
     },
     "execution_count": 29,
     "metadata": {},
     "output_type": "execute_result"
    }
   ],
   "source": [
    "nbinom.pmf(k=4, n=1, p=35/100)"
   ]
  },
  {
   "cell_type": "markdown",
   "id": "11b44539",
   "metadata": {},
   "source": [
    "# Q5\n",
    "Suppose it’s known that 4% of individuals who visit a certain bank are visiting to file bankruptcy. Suppose a banker wants to know the probability that he will meet with less than 10 people before encountering someone who is filing for bankruptcy."
   ]
  },
  {
   "cell_type": "code",
   "execution_count": 30,
   "id": "bb00ea6d",
   "metadata": {},
   "outputs": [
    {
     "data": {
      "text/plain": [
       "0.0277013598329792"
      ]
     },
     "execution_count": 30,
     "metadata": {},
     "output_type": "execute_result"
    }
   ],
   "source": [
    "nbinom.pmf(k=9, n=1, p=4/100)"
   ]
  },
  {
   "cell_type": "markdown",
   "id": "bc2f5fe4",
   "metadata": {},
   "source": [
    "# Q6\n",
    "Suppose a dice is repeatedly rolled until \"3\" is obtained. Then the probability of getting \"3\" is p = 1 / 6 and the random variable, X, can take on a value of 1, 2, 3, ...., until the first success is obtained. This is an example of a geometric distribution with p = 1 / 6."
   ]
  },
  {
   "cell_type": "code",
   "execution_count": null,
   "id": "79e3ac74",
   "metadata": {},
   "outputs": [],
   "source": []
  },
  {
   "cell_type": "markdown",
   "id": "6de690a3",
   "metadata": {},
   "source": [
    "# Q8\n",
    "If your probability of success is 0.2, what is the probability you meet an independent voter on your third try?  Inserting 0.2 as p and with X = 3, the probability density function becomes:"
   ]
  },
  {
   "cell_type": "code",
   "execution_count": 34,
   "id": "84de493f",
   "metadata": {},
   "outputs": [
    {
     "data": {
      "text/plain": [
       "0.12799999999999997"
      ]
     },
     "execution_count": 34,
     "metadata": {},
     "output_type": "execute_result"
    }
   ],
   "source": [
    "nbinom.pmf(k=2, n=1, p=0.2)"
   ]
  },
  {
   "cell_type": "markdown",
   "id": "381149c6",
   "metadata": {},
   "source": [
    "# Q9\n",
    "Matthew is a high school basketball player and a 75% free throw shooter. Calculate what will be the probability that Matthew makes his first free throw on his fifth shot?"
   ]
  },
  {
   "cell_type": "code",
   "execution_count": 33,
   "id": "1c13473d",
   "metadata": {},
   "outputs": [
    {
     "data": {
      "text/plain": [
       "0.0029296875000000004"
      ]
     },
     "execution_count": 33,
     "metadata": {},
     "output_type": "execute_result"
    }
   ],
   "source": [
    "nbinom.pmf(k=4, n=1, p=75/100)"
   ]
  },
  {
   "cell_type": "markdown",
   "id": "26dabef6",
   "metadata": {},
   "source": [
    "# Q10\n",
    "You play a game of chance that you can either win or lose (there are no other possibilities) until you lose. Your probability of losing is \n",
    "p=\n",
    "0.57\n",
    ". What is the probability that it takes five games until you lose?"
   ]
  },
  {
   "cell_type": "code",
   "execution_count": 32,
   "id": "761ff481",
   "metadata": {},
   "outputs": [
    {
     "data": {
      "text/plain": [
       "0.019487165700000017"
      ]
     },
     "execution_count": 32,
     "metadata": {},
     "output_type": "execute_result"
    }
   ],
   "source": [
    "nbinom.pmf(k=4, n=1, p=0.57)"
   ]
  },
  {
   "cell_type": "markdown",
   "id": "752faa4c",
   "metadata": {},
   "source": [
    "# Poisson Distribution"
   ]
  },
  {
   "cell_type": "markdown",
   "id": "6877b473",
   "metadata": {},
   "source": [
    "# Q1"
   ]
  },
  {
   "cell_type": "code",
   "execution_count": 35,
   "id": "b75e2e63",
   "metadata": {},
   "outputs": [],
   "source": [
    "from scipy.stats import binom,hypergeom,poisson,nbinom,expon,norm\n",
    "import matplotlib.pyplot as plt\n",
    "import pandas as pd\n",
    "import numpy as np"
   ]
  },
  {
   "cell_type": "code",
   "execution_count": 36,
   "id": "fed66ed9",
   "metadata": {},
   "outputs": [
    {
     "data": {
      "text/plain": [
       "0.12465201948308108"
      ]
     },
     "execution_count": 36,
     "metadata": {},
     "output_type": "execute_result"
    }
   ],
   "source": [
    "poisson.cdf(2,5)"
   ]
  },
  {
   "cell_type": "markdown",
   "id": "f20c3c7e",
   "metadata": {},
   "source": [
    "# Q2"
   ]
  },
  {
   "cell_type": "code",
   "execution_count": 37,
   "id": "cd9992df",
   "metadata": {},
   "outputs": [
    {
     "data": {
      "text/plain": [
       "0.01735126523666451"
      ]
     },
     "execution_count": 37,
     "metadata": {},
     "output_type": "execute_result"
    }
   ],
   "source": [
    "poisson.cdf(1,6)"
   ]
  },
  {
   "cell_type": "markdown",
   "id": "ae231912",
   "metadata": {},
   "source": [
    "# Q3"
   ]
  },
  {
   "cell_type": "code",
   "execution_count": 38,
   "id": "8f8eed3b",
   "metadata": {},
   "outputs": [
    {
     "data": {
      "text/plain": [
       "0.16803135574154085"
      ]
     },
     "execution_count": 38,
     "metadata": {},
     "output_type": "execute_result"
    }
   ],
   "source": [
    "poisson.pmf(4,3)"
   ]
  },
  {
   "cell_type": "markdown",
   "id": "29df3619",
   "metadata": {},
   "source": [
    "# Q4"
   ]
  },
  {
   "cell_type": "code",
   "execution_count": 39,
   "id": "a92fcc68",
   "metadata": {},
   "outputs": [
    {
     "data": {
      "text/plain": [
       "0.03608940886309672"
      ]
     },
     "execution_count": 39,
     "metadata": {},
     "output_type": "execute_result"
    }
   ],
   "source": [
    "poisson.pmf(5,2)"
   ]
  },
  {
   "cell_type": "markdown",
   "id": "66642fbb",
   "metadata": {},
   "source": [
    "# Q5"
   ]
  },
  {
   "cell_type": "code",
   "execution_count": 40,
   "id": "9fe18d42",
   "metadata": {},
   "outputs": [
    {
     "data": {
      "text/plain": [
       "0.0033336819930677277"
      ]
     },
     "execution_count": 40,
     "metadata": {},
     "output_type": "execute_result"
    }
   ],
   "source": [
    "poisson.pmf(3,0.3)"
   ]
  },
  {
   "cell_type": "markdown",
   "id": "d796b2d4",
   "metadata": {},
   "source": [
    "# Q6"
   ]
  },
  {
   "cell_type": "code",
   "execution_count": 3,
   "id": "d6272729",
   "metadata": {},
   "outputs": [
    {
     "name": "stdout",
     "output_type": "stream",
     "text": [
      "0.9097959895689501\n",
      "0.014387677966970713\n",
      "0.6065306597126334\n"
     ]
    }
   ],
   "source": [
    "\n",
    "x = poisson.cdf(1,0.5)\n",
    "\n",
    "y = 1-poisson.cdf(2,0.5)\n",
    "\n",
    "z = poisson.pmf(0,0.5)\n",
    "\n",
    "print(x)\n",
    "print(y)\n",
    "print(z)"
   ]
  },
  {
   "cell_type": "markdown",
   "id": "49d7930a",
   "metadata": {},
   "source": [
    "# Q7"
   ]
  },
  {
   "cell_type": "code",
   "execution_count": 4,
   "id": "ab18d5da",
   "metadata": {},
   "outputs": [
    {
     "name": "stdout",
     "output_type": "stream",
     "text": [
      "0.6472318887822313\n",
      "0.6161149710523164\n",
      "0.10081881344492458\n"
     ]
    }
   ],
   "source": [
    "x = poisson.cdf(3,3)\n",
    "\n",
    "y = poisson.pmf(2,3)+poisson.pmf(3,3)+poisson.pmf(4,3)\n",
    "\n",
    "z = poisson.pmf(5,3)\n",
    "\n",
    "print(x)\n",
    "print(y)\n",
    "print(z)"
   ]
  },
  {
   "cell_type": "markdown",
   "id": "61333991",
   "metadata": {},
   "source": [
    "# Q8"
   ]
  },
  {
   "cell_type": "code",
   "execution_count": 45,
   "id": "66eee8c0",
   "metadata": {},
   "outputs": [
    {
     "name": "stdout",
     "output_type": "stream",
     "text": [
      "0.22313016014842982\n",
      "0.44217459962892525\n"
     ]
    }
   ],
   "source": [
    "a = poisson.cdf(0,1.5)\n",
    "b = 1-poisson.cdf(1,1.5)\n",
    "\n",
    "print(a)\n",
    "print(b)"
   ]
  },
  {
   "cell_type": "markdown",
   "id": "28985c42",
   "metadata": {},
   "source": [
    "# Q9"
   ]
  },
  {
   "cell_type": "code",
   "execution_count": 46,
   "id": "7a6e2c8c",
   "metadata": {},
   "outputs": [
    {
     "data": {
      "text/plain": [
       "0.07160440945982202"
      ]
     },
     "execution_count": 46,
     "metadata": {},
     "output_type": "execute_result"
    }
   ],
   "source": [
    "poisson.pmf(6,3.4)"
   ]
  },
  {
   "cell_type": "markdown",
   "id": "96d72181",
   "metadata": {},
   "source": [
    "# Q10"
   ]
  },
  {
   "cell_type": "code",
   "execution_count": 47,
   "id": "e4330085",
   "metadata": {},
   "outputs": [
    {
     "data": {
      "text/plain": [
       "0.38403934516693705"
      ]
     },
     "execution_count": 47,
     "metadata": {},
     "output_type": "execute_result"
    }
   ],
   "source": [
    "1-poisson.cdf(5,5)"
   ]
  },
  {
   "cell_type": "markdown",
   "id": "7eaf041e",
   "metadata": {},
   "source": [
    "# Q11"
   ]
  },
  {
   "cell_type": "code",
   "execution_count": 5,
   "id": "f74ecf6e",
   "metadata": {},
   "outputs": [
    {
     "name": "stdout",
     "output_type": "stream",
     "text": [
      "0.7254449533096043\n",
      "0.27455504669039565\n"
     ]
    }
   ],
   "source": [
    "x = poisson.cdf(4,3.5)\n",
    "y = 1-poisson.cdf(4,3.5)\n",
    "\n",
    "print(x)\n",
    "print(y)"
   ]
  },
  {
   "cell_type": "markdown",
   "id": "24494d4a",
   "metadata": {},
   "source": [
    "# Q12"
   ]
  },
  {
   "cell_type": "code",
   "execution_count": 49,
   "id": "12dee80d",
   "metadata": {},
   "outputs": [
    {
     "data": {
      "text/plain": [
       "0.024114671598744697"
      ]
     },
     "execution_count": 49,
     "metadata": {},
     "output_type": "execute_result"
    }
   ],
   "source": [
    "1-poisson.cdf(2,0.61)"
   ]
  },
  {
   "cell_type": "markdown",
   "id": "cbd5164f",
   "metadata": {},
   "source": [
    "# Q13"
   ]
  },
  {
   "cell_type": "code",
   "execution_count": 50,
   "id": "6d184f82",
   "metadata": {},
   "outputs": [
    {
     "name": "stdout",
     "output_type": "stream",
     "text": [
      "0.19536681481316454\n",
      "0.19536681481316454\n"
     ]
    }
   ],
   "source": [
    "x1 = poisson.pmf(3,4)\n",
    "\n",
    "x2 = poisson.pmf(4,4)\n",
    "\n",
    "print(x1)\n",
    "print(x2)"
   ]
  },
  {
   "cell_type": "markdown",
   "id": "9dbd6ea3",
   "metadata": {},
   "source": [
    "# Q14"
   ]
  },
  {
   "cell_type": "code",
   "execution_count": 51,
   "id": "6f376819",
   "metadata": {},
   "outputs": [
    {
     "data": {
      "text/plain": [
       "0.43347012036670896"
      ]
     },
     "execution_count": 51,
     "metadata": {},
     "output_type": "execute_result"
    }
   ],
   "source": [
    "poisson.cdf(3,4)"
   ]
  },
  {
   "cell_type": "markdown",
   "id": "e4a73657",
   "metadata": {},
   "source": [
    "# Baye's Theorem"
   ]
  },
  {
   "cell_type": "markdown",
   "id": "afd097e6",
   "metadata": {},
   "source": [
    "# Q1\n",
    "A man is known to speak the truth ¾ times. He draws a card and reports it is King .\n",
    "Find the probability that it is actually a King."
   ]
  },
  {
   "cell_type": "code",
   "execution_count": 1,
   "id": "8a469df1",
   "metadata": {},
   "outputs": [
    {
     "data": {
      "text/plain": [
       "0.05559673832468495"
      ]
     },
     "execution_count": 1,
     "metadata": {},
     "output_type": "execute_result"
    }
   ],
   "source": [
    "A1 = 3/4\n",
    "A2 = 1/4\n",
    "\n",
    "B_A1 = 1/52\n",
    "B_A2 = 0.980\n",
    "\n",
    "Answer = ((A1*B_A1)/(A1*B_A1+A2*B_A2))\n",
    "Answer"
   ]
  },
  {
   "cell_type": "markdown",
   "id": "3b42145f",
   "metadata": {},
   "source": [
    "# Q2\n",
    "Assume that the chances of a person having a skin disease are 40%. Assuming that skin creams and drinking enough water reduces the risk of skin disease by 30% and prescription of a certain drug reduces its chance by 20%. At a time, a patient can choose any one of the two options with equal probabilities. It is given that after picking one of the options, the patient selected at random has the skin disease. Find the probability that the patient picked the option of skin screams and drinking enough water using the Bayes theorem."
   ]
  },
  {
   "cell_type": "code",
   "execution_count": 2,
   "id": "4b17a329",
   "metadata": {},
   "outputs": [
    {
     "data": {
      "text/plain": [
       "0.4666666666666666"
      ]
     },
     "execution_count": 2,
     "metadata": {},
     "output_type": "execute_result"
    }
   ],
   "source": [
    "A1 = 1/2\n",
    "A2 = 1/2\n",
    "\n",
    "B_A1 = 0.28\n",
    "B_A2 = 0.32\n",
    "\n",
    "Answer = ((A1*B_A1)/(A1*B_A1+A2*B_A2))\n",
    "Answer"
   ]
  },
  {
   "cell_type": "markdown",
   "id": "5b316ef8",
   "metadata": {},
   "source": [
    "# Q3\n",
    "A bag I contains 4 white and 6 black balls while another Bag II contains 4 white and 3 black balls. One ball is drawn at random from one of the bags, and it is found to be black. Find the probability that it was drawn from Bag I."
   ]
  },
  {
   "cell_type": "code",
   "execution_count": 3,
   "id": "e8c7c881",
   "metadata": {},
   "outputs": [
    {
     "data": {
      "text/plain": [
       "0.5833333333333334"
      ]
     },
     "execution_count": 3,
     "metadata": {},
     "output_type": "execute_result"
    }
   ],
   "source": [
    "A1 = 1/2\n",
    "A2 = 1/2\n",
    "\n",
    "B_A1 = 6/10\n",
    "B_A2 = 3/7\n",
    "\n",
    "Answer = ((A1*B_A1)/(A1*B_A1+A2*B_A2))\n",
    "Answer"
   ]
  },
  {
   "cell_type": "markdown",
   "id": "7d0d9d0f",
   "metadata": {},
   "source": [
    "# Q4\n",
    "A bag contains 4 balls. Two balls drawn at random without replacement and are found to be blue.what is the probability that all balls in the bag are blue?"
   ]
  },
  {
   "cell_type": "code",
   "execution_count": 5,
   "id": "d79b6b8b",
   "metadata": {},
   "outputs": [
    {
     "data": {
      "text/plain": [
       "0.4057971014492753"
      ]
     },
     "execution_count": 5,
     "metadata": {},
     "output_type": "execute_result"
    }
   ],
   "source": [
    "B1 = 0.25\n",
    "B2 = 0.35\n",
    "B3 = 0.40\n",
    "\n",
    "A_B1 = 0.05\n",
    "A_B2 = 0.04\n",
    "A_B3 = 0.02\n",
    "\n",
    "Prediction = ((B2*A_B2)/(B1*A_B1+B2*A_B2+B3*A_B3))\n",
    "Prediction"
   ]
  },
  {
   "cell_type": "markdown",
   "id": "88ddd2ff",
   "metadata": {},
   "source": [
    "# Q5\n",
    "1% of a population have a certain disease and the remaining 99% are free from this disease. A test is used to detect this disease. This test is positive in 95% of the people with the disease and is also (falsely) positive in 2% of the people free from the disease.\n",
    "If a person, selected at random from this population, has tested positive, what is the probability that she/he has the disease?"
   ]
  },
  {
   "cell_type": "markdown",
   "id": "afb9625a",
   "metadata": {},
   "source": [
    "# Q6\n",
    "If we have to calculate the probability of taking a blue ball from the second bag out of three different bags of balls, where each bag contains three different colour balls viz. red, blue, black."
   ]
  },
  {
   "cell_type": "markdown",
   "id": "3b669d37",
   "metadata": {},
   "source": [
    "# Q7\n",
    "Given the following statistics, what is the probability that a woman has cancer if she has a positive mammogram result?\n",
    "* One percent of women over 50 have breast cancer.\n",
    "* Ninety percent of women who have breast cancer test positive on mammograms.\n",
    "* Eight percent of women will have false positives\n"
   ]
  },
  {
   "cell_type": "markdown",
   "id": "e6bcbbed",
   "metadata": {},
   "source": [
    "# Q8\n",
    "Amy has two bags. Bag I has 7 red and 2 blue balls and bag II has 5 red and 9 blue balls. Amy draws a ball at random and it turns out to be red. Determine the probability that the ball was from the bag I using the Bayes theorem."
   ]
  },
  {
   "cell_type": "code",
   "execution_count": 7,
   "id": "20c8145c",
   "metadata": {},
   "outputs": [
    {
     "data": {
      "text/plain": [
       "0.6853146853146853"
      ]
     },
     "execution_count": 7,
     "metadata": {},
     "output_type": "execute_result"
    }
   ],
   "source": [
    "A1 = 1/2\n",
    "A2 = 1/2\n",
    "\n",
    "B_A1 = 7/9\n",
    "B_A2 = 5/14\n",
    "\n",
    "Answer = ((A1*B_A1)/(A1*B_A1+A2*B_A2))\n",
    "Answer"
   ]
  },
  {
   "cell_type": "markdown",
   "id": "08aa324a",
   "metadata": {},
   "source": [
    "# Q9\n",
    "Two urns identical in appearance, contain respectively 3 white and 2 black balls and 2 white and 5 black balls . one urn is selected at random , and a ball is drawn from it . what is the probability that it is black?"
   ]
  },
  {
   "cell_type": "code",
   "execution_count": 12,
   "id": "0b4ae1ab",
   "metadata": {},
   "outputs": [
    {
     "data": {
      "text/plain": [
       "0.358974358974359"
      ]
     },
     "execution_count": 12,
     "metadata": {},
     "output_type": "execute_result"
    }
   ],
   "source": [
    "A1 = 1/2\n",
    "A2 = 1/2\n",
    "\n",
    "B_A1 = 2/5\n",
    "B_A2 = 5/7\n",
    "\n",
    "Answer = ((A1*B_A1)/(A1*B_A1+A2*B_A2))\n",
    "Answer"
   ]
  },
  {
   "cell_type": "markdown",
   "id": "c854d5a8",
   "metadata": {},
   "source": [
    "# Q10\n",
    "An insurance company insured 2000 scooter drivers, 4000 car drivers and 6000 truck drivers. The probability of an accident involving a scooter driver , car driver and a truck driver is 0.01, 0.03, 0.015. One of the insured persons meets with an accident. What is the probability that he is a scooter driver?"
   ]
  },
  {
   "cell_type": "code",
   "execution_count": 6,
   "id": "1c085b6f",
   "metadata": {},
   "outputs": [
    {
     "data": {
      "text/plain": [
       "0.01923076923076923"
      ]
     },
     "execution_count": 6,
     "metadata": {},
     "output_type": "execute_result"
    }
   ],
   "source": [
    "A1 = 1/6\n",
    "A2 = 1/3\n",
    "A3 = 1/2\n",
    "\n",
    "B_A1 = 1/100\n",
    "B_A2 = 3/100\n",
    "B_A3 = 15/100\n",
    "\n",
    "Answer = ((A1*B_A1)/(A1*B_A1+A2*B_A2+A3*B_A3))\n",
    "Answer"
   ]
  },
  {
   "cell_type": "markdown",
   "id": "0197382c",
   "metadata": {},
   "source": [
    "# Q11\n",
    "Three urns contain 6 red, 4 black; 4 red, 6 black, and 5 red, 5 black balls respectively. One of the urns is selected at random and a ball is drawn from it. If the ball drawn is red, find the probability that it is drawn from the first urn."
   ]
  },
  {
   "cell_type": "code",
   "execution_count": 11,
   "id": "9608642a",
   "metadata": {},
   "outputs": [
    {
     "data": {
      "text/plain": [
       "0.39999999999999997"
      ]
     },
     "execution_count": 11,
     "metadata": {},
     "output_type": "execute_result"
    }
   ],
   "source": [
    "A1 = 1/3\n",
    "A2 = 1/3\n",
    "A3 = 1/3\n",
    "\n",
    "B_A1 = 6/10\n",
    "B_A2 = 4/10\n",
    "B_A3 = 5/10\n",
    "\n",
    "Answer = ((A1*B_A1)/(A1*B_A1+A2*B_A2+A3*B_A3))\n",
    "Answer"
   ]
  },
  {
   "cell_type": "markdown",
   "id": "6a3406ac",
   "metadata": {},
   "source": [
    "# Q12\n",
    "A jar containing 8 marbles of which 4 red and 4 blue marbles are there. Find the probability of getting a red given the first one was red too."
   ]
  },
  {
   "cell_type": "markdown",
   "id": "ce3fd03a",
   "metadata": {},
   "source": [
    "# Q13\n",
    "Three persons A, B and C have applied for a job in a private company. The chance of their selections is in the ratio 1 : 2 : 4. The probabilities that A, B and C can introduce changes to improve the profits of the company are 0.8, 0.5 and 0.3, respectively. If the change does not take place, find the probability that it is due to the appointment of C."
   ]
  },
  {
   "cell_type": "code",
   "execution_count": 9,
   "id": "d503847c",
   "metadata": {},
   "outputs": [
    {
     "data": {
      "text/plain": [
       "0.7"
      ]
     },
     "execution_count": 9,
     "metadata": {},
     "output_type": "execute_result"
    }
   ],
   "source": [
    "A1 = 1/7\n",
    "A2 = 2/7\n",
    "A3 = 4/7\n",
    "\n",
    "B_A1 = 0.2\n",
    "B_A2 = 0.5\n",
    "B_A3 = 0.7\n",
    "\n",
    "Answer = ((A3*B_A3)/(A1*B_A1+A2*B_A2+A3*B_A3))\n",
    "Answer"
   ]
  },
  {
   "cell_type": "markdown",
   "id": "24b0a4ee",
   "metadata": {},
   "source": [
    "# Q14\n",
    "Three identical boxes contain red and white balls. The first box contains 3 red and 2 white balls, the second box has 4 red and 5 white balls, and the third box has 2 red and 4 white balls. A box is chosen very randomly and a ball is drawn from it. If the ball that is drawn out is red, what will be the probability that the second box is chosen"
   ]
  },
  {
   "cell_type": "code",
   "execution_count": 10,
   "id": "caefeff7",
   "metadata": {},
   "outputs": [
    {
     "data": {
      "text/plain": [
       "0.32258064516129037"
      ]
     },
     "execution_count": 10,
     "metadata": {},
     "output_type": "execute_result"
    }
   ],
   "source": [
    "A1 = 1/3\n",
    "A2 = 1/3\n",
    "A3 = 1/3\n",
    "\n",
    "B_A1 = 3/5\n",
    "B_A2 = 4/9\n",
    "B_A3 = 2/6\n",
    "\n",
    "Answer = ((A2*B_A2)/(A1*B_A1+A2*B_A2+A3*B_A3))\n",
    "Answer"
   ]
  },
  {
   "cell_type": "markdown",
   "id": "fc14f79a",
   "metadata": {},
   "source": [
    "# Additional Theorem"
   ]
  },
  {
   "cell_type": "markdown",
   "id": "9138fac1",
   "metadata": {},
   "source": [
    "# Q1\n",
    "If A and B are mutually exclusive events p(A)=⅜ and p(B)=⅛ ,the find\n",
    "       1)p(A’)\n",
    "       2)p(AUB) \n"
   ]
  },
  {
   "cell_type": "code",
   "execution_count": 14,
   "id": "88f0e1d6",
   "metadata": {},
   "outputs": [
    {
     "name": "stdout",
     "output_type": "stream",
     "text": [
      "0.625\n",
      "0.5\n"
     ]
    }
   ],
   "source": [
    "a = 3/8\n",
    "b = 1/8\n",
    "a_and_b = 0\n",
    "\n",
    "a_inv = 1-a\n",
    "a_union_b = a + b - a_and_b\n",
    "\n",
    "print(a_inv)\n",
    "print(a_union_b)"
   ]
  },
  {
   "cell_type": "markdown",
   "id": "6bf95543",
   "metadata": {},
   "source": [
    "# Q2\n",
    " If the probability of solving a problem by 2 students George and James are 1/2 and 1/3 respectively then what is the probability of the problem to be solved."
   ]
  },
  {
   "cell_type": "code",
   "execution_count": 15,
   "id": "f84bcbe1",
   "metadata": {},
   "outputs": [
    {
     "name": "stdout",
     "output_type": "stream",
     "text": [
      "0.83\n"
     ]
    }
   ],
   "source": [
    "a = 0.50\n",
    "b = 0.33\n",
    "\n",
    "a_union_b = round(a + b,2) \n",
    "\n",
    "print(a_union_b)"
   ]
  },
  {
   "cell_type": "markdown",
   "id": "42a480ea",
   "metadata": {},
   "source": [
    "# Q3\n",
    "What is the probability of drawing either a king or a queen in a single draw from a well shuffled pack of 52 cards?"
   ]
  },
  {
   "cell_type": "code",
   "execution_count": 16,
   "id": "8cac5d54",
   "metadata": {},
   "outputs": [
    {
     "name": "stdout",
     "output_type": "stream",
     "text": [
      "0.15384615384615385\n"
     ]
    }
   ],
   "source": [
    "a = 4/52\n",
    "b = 4/52\n",
    "\n",
    "a_union_b = a + b\n",
    "\n",
    "print(a_union_b)"
   ]
  },
  {
   "cell_type": "markdown",
   "id": "5c331ff4",
   "metadata": {},
   "source": [
    "# Q4\n",
    "A and B are two candidates seeking admission to IIT. The probability that A getting selected is 0.5, the probability of B getting selected is 0.7 and the probability that both A and B getting selected is 0.3. What is the probability that it could be either candidate A or B."
   ]
  },
  {
   "cell_type": "code",
   "execution_count": 17,
   "id": "019725fc",
   "metadata": {},
   "outputs": [
    {
     "name": "stdout",
     "output_type": "stream",
     "text": [
      "0.9\n"
     ]
    }
   ],
   "source": [
    "a = 0.5\n",
    "b = 0.7\n",
    "a_and_b = 0.3\n",
    "\n",
    "a_union_b = round(a + b - a_and_b,1)\n",
    "\n",
    "print(a_union_b)"
   ]
  },
  {
   "cell_type": "markdown",
   "id": "55dcd39a",
   "metadata": {},
   "source": [
    "# Q5\n",
    " A bag contains 30 balls numbered from 1 to 30. One ball is drawn at random, find the probability that the number of the ball will be multiple of 5 or 9."
   ]
  },
  {
   "cell_type": "code",
   "execution_count": 21,
   "id": "45f2e14e",
   "metadata": {},
   "outputs": [
    {
     "name": "stdout",
     "output_type": "stream",
     "text": [
      "0.30000000000000004\n"
     ]
    }
   ],
   "source": [
    "a = 6/30\n",
    "b = 3/30\n",
    "\n",
    "a_union_b = a+b\n",
    "\n",
    "print(a_union_b)"
   ]
  },
  {
   "cell_type": "markdown",
   "id": "2e897ac0",
   "metadata": {},
   "source": [
    "# Q6\n",
    "A die is thrown twice. Let A be the event, ‘First die shows 5’ and B be the event, ‘second die shows 5’. Find P(A∪B) .."
   ]
  },
  {
   "cell_type": "code",
   "execution_count": 22,
   "id": "e87e4a55",
   "metadata": {},
   "outputs": [
    {
     "name": "stdout",
     "output_type": "stream",
     "text": [
      "0.3333333333333333\n"
     ]
    }
   ],
   "source": [
    "a = 1/6\n",
    "b = 1/6\n",
    "\n",
    "a_union_b = a+b\n",
    "\n",
    "print(a_union_b)"
   ]
  },
  {
   "cell_type": "markdown",
   "id": "049436ab",
   "metadata": {},
   "source": [
    "# Q7\n",
    "Two dice are tossed once. Find the probability of getting an even number on first dice or a total of 8."
   ]
  },
  {
   "cell_type": "code",
   "execution_count": 23,
   "id": "5aa07856",
   "metadata": {},
   "outputs": [
    {
     "name": "stdout",
     "output_type": "stream",
     "text": [
      "0.19444444444444442\n"
     ]
    }
   ],
   "source": [
    "a = 3/36\n",
    "b = 5/36\n",
    "a_intersection_b = 1/36\n",
    "\n",
    "a_union_b = a + b - a_intersection_b\n",
    "\n",
    "print(a_union_b)"
   ]
  },
  {
   "cell_type": "markdown",
   "id": "18037ba0",
   "metadata": {},
   "source": [
    "# Q8\n",
    "A person can hit a target in 3 out 4 shots, whereas another person can hit the target in 2 out of 3 shots. Find the probability of the targets being hit at all when they both try."
   ]
  },
  {
   "cell_type": "code",
   "execution_count": 24,
   "id": "6b7d67ba",
   "metadata": {},
   "outputs": [
    {
     "name": "stdout",
     "output_type": "stream",
     "text": [
      "1.4166666666666665\n"
     ]
    }
   ],
   "source": [
    "a = 3/4\n",
    "b = 2/3\n",
    "\n",
    "a_union_b = a + b\n",
    "\n",
    "print(a_union_b)"
   ]
  },
  {
   "cell_type": "markdown",
   "id": "47cf12bf",
   "metadata": {},
   "source": [
    "# Q9\n",
    "If A and B are two events associated with a random experiment for which P(A) = 0.35, P(A or B) = 0.85, and P(A and B) = 0.15. \n",
    "Find \n",
    "        (i) P(only B)\n",
    "        (ii) P(B') \n",
    "        (iii) P(only A)\n"
   ]
  },
  {
   "cell_type": "code",
   "execution_count": 25,
   "id": "88bd106c",
   "metadata": {},
   "outputs": [
    {
     "name": "stdout",
     "output_type": "stream",
     "text": [
      "0.65\n",
      "0.35\n"
     ]
    }
   ],
   "source": [
    "a = 0.35\n",
    "\n",
    "a_union_b = 0.85\n",
    "a_intersection_b = 0.15\n",
    "\n",
    "# i)\n",
    "b = a_union_b + a_intersection_b - a\n",
    "\n",
    "# ii)\n",
    "b_inv = 1 - b\n",
    "\n",
    "print(b)\n",
    "print(b_inv)"
   ]
  },
  {
   "cell_type": "markdown",
   "id": "86799695",
   "metadata": {},
   "source": [
    "# Q10\n",
    "Consider an experiment of rolling a fair die .Let A be the event that an even number appears . B = a number bigger than 3 occurs . Find the probability that the number appearing on the uppermost face is either even or bigger than 3.."
   ]
  },
  {
   "cell_type": "code",
   "execution_count": 26,
   "id": "ff373467",
   "metadata": {},
   "outputs": [
    {
     "name": "stdout",
     "output_type": "stream",
     "text": [
      "0.6666666666666667\n"
     ]
    }
   ],
   "source": [
    "a = 3/6\n",
    "b = 3/6\n",
    "a_intersection_b = 2/6\n",
    "\n",
    "a_union_b = a + b - a_intersection_b\n",
    "\n",
    "print(a_union_b)"
   ]
  },
  {
   "cell_type": "markdown",
   "id": "c82fbfd4",
   "metadata": {},
   "source": [
    "# Q11\n",
    "A number is selected from the first 20 natural numbers. Find the probability that it would be divisible by 3 or 7?\n",
    "a) 19/46\n",
    "b) 24/67\n",
    "c) 12/37\n",
    "d) 7/20\n"
   ]
  },
  {
   "cell_type": "code",
   "execution_count": 27,
   "id": "d916a18b",
   "metadata": {},
   "outputs": [
    {
     "name": "stdout",
     "output_type": "stream",
     "text": [
      "0.4\n"
     ]
    }
   ],
   "source": [
    "a = 6/20\n",
    "b = 2/20\n",
    "\n",
    "a_union_b = a + b\n",
    "\n",
    "print(a_union_b)"
   ]
  },
  {
   "cell_type": "markdown",
   "id": "b4aebc63",
   "metadata": {},
   "source": [
    "# Q12\n",
    "If A and B are two events such thatP (A) = 1/4 , P (B) = 1/2 and P(A and B)= 1/8, find (i) P (A or B) (ii) P(not A and not B)."
   ]
  },
  {
   "cell_type": "code",
   "execution_count": 29,
   "id": "b75a3ca3",
   "metadata": {},
   "outputs": [
    {
     "data": {
      "text/plain": [
       "0.625"
      ]
     },
     "execution_count": 29,
     "metadata": {},
     "output_type": "execute_result"
    }
   ],
   "source": [
    "a = 1/4\n",
    "b = 1/2\n",
    "\n",
    "a_and_b = 1/8\n",
    "\n",
    "a_union_b = a + b - a_and_b\n",
    "a_union_b"
   ]
  },
  {
   "cell_type": "markdown",
   "id": "a81cca55",
   "metadata": {},
   "source": [
    "# Multiplication Theorem"
   ]
  },
  {
   "cell_type": "markdown",
   "id": "59882d49",
   "metadata": {},
   "source": [
    "# Q1\n",
    "A bag contains 15 red and 5 blue balls.without the replacement of the balls,two balls       are drawn from a  bag one after the other.what is the probability of picking both the balls as red?"
   ]
  },
  {
   "cell_type": "code",
   "execution_count": 30,
   "id": "678280a5",
   "metadata": {},
   "outputs": [
    {
     "name": "stdout",
     "output_type": "stream",
     "text": [
      "0.5526315789473684\n"
     ]
    }
   ],
   "source": [
    "a = 15/20\n",
    "b = 14/19\n",
    "\n",
    "a_and_b = a * b\n",
    "\n",
    "print(a_and_b)"
   ]
  },
  {
   "cell_type": "markdown",
   "id": "e214b11d",
   "metadata": {},
   "source": [
    "# Q2\n",
    "What is the probability of getting a 5 and then a 2 with the normal 6-sided die?"
   ]
  },
  {
   "cell_type": "code",
   "execution_count": 31,
   "id": "b511821e",
   "metadata": {},
   "outputs": [
    {
     "data": {
      "text/plain": [
       "0.027777777777777776"
      ]
     },
     "execution_count": 31,
     "metadata": {},
     "output_type": "execute_result"
    }
   ],
   "source": [
    "a = 1/6\n",
    "b = 1/6\n",
    "A_and_B = a*b\n",
    "A_and_B"
   ]
  },
  {
   "cell_type": "markdown",
   "id": "474671fe",
   "metadata": {},
   "source": [
    "# Q3\n",
    "Two cards are selected without replacing the first card from the deck. Find the probability of selecting a king and then selecting a queen."
   ]
  },
  {
   "cell_type": "code",
   "execution_count": 32,
   "id": "9d16fdab",
   "metadata": {},
   "outputs": [
    {
     "name": "stdout",
     "output_type": "stream",
     "text": [
      "0.006033182503770739\n"
     ]
    }
   ],
   "source": [
    "a = 4/52\n",
    "b = 4/51\n",
    "\n",
    "a_intersection_b = a * b\n",
    "\n",
    "print(a_intersection_b)"
   ]
  },
  {
   "cell_type": "markdown",
   "id": "95a071e1",
   "metadata": {},
   "source": [
    "# Q4\n",
    "Find the probability of drawing a diamond card in each of the two consecutive draws from a well shuffled pack of cards, if the card drawn is not replaced after the first draw?"
   ]
  },
  {
   "cell_type": "code",
   "execution_count": 33,
   "id": "282603e6",
   "metadata": {},
   "outputs": [
    {
     "data": {
      "text/plain": [
       "0.058823529411764705"
      ]
     },
     "execution_count": 33,
     "metadata": {},
     "output_type": "execute_result"
    }
   ],
   "source": [
    "a = 13/52\n",
    "b = 12/51\n",
    "A_and_B = a*b\n",
    "A_and_B"
   ]
  },
  {
   "cell_type": "markdown",
   "id": "764deb6c",
   "metadata": {},
   "source": [
    "# Q5\n",
    "There are 19 tickets, numbered from 1 to 19. A ticket is drawn and then another ticket is drawn without replacement. Find the probability that both tickets will show even numbers."
   ]
  },
  {
   "cell_type": "code",
   "execution_count": 34,
   "id": "83fc80f0",
   "metadata": {},
   "outputs": [
    {
     "name": "stdout",
     "output_type": "stream",
     "text": [
      "0.21052631578947367\n"
     ]
    }
   ],
   "source": [
    "a = 9/19\n",
    "b = 8/18\n",
    "\n",
    "a_intersection_b = a * b\n",
    "\n",
    "print(a_intersection_b)"
   ]
  },
  {
   "cell_type": "markdown",
   "id": "c2ab6db0",
   "metadata": {},
   "source": [
    "# Q6\n",
    "A bag contains 4 red balls, 3 white balls and 5 black balls. Two balls are drawn one after the other with replacement. Find the probability that first is red and the second is black."
   ]
  },
  {
   "cell_type": "code",
   "execution_count": 35,
   "id": "a25d3139",
   "metadata": {},
   "outputs": [
    {
     "data": {
      "text/plain": [
       "0.1388888888888889"
      ]
     },
     "execution_count": 35,
     "metadata": {},
     "output_type": "execute_result"
    }
   ],
   "source": [
    "a = 4/12\n",
    "b = 5/12\n",
    "A_and_B = a*b\n",
    "A_and_B"
   ]
  },
  {
   "cell_type": "markdown",
   "id": "33073b82",
   "metadata": {},
   "source": [
    "# Q7\n",
    "A bag contains 5 green and 7 red balls. Two balls are drawn. Find the probability that one is green and the other is red."
   ]
  },
  {
   "cell_type": "code",
   "execution_count": 36,
   "id": "1a789cd9",
   "metadata": {},
   "outputs": [
    {
     "name": "stdout",
     "output_type": "stream",
     "text": [
      "0.5303030303030303\n"
     ]
    }
   ],
   "source": [
    "a = 5/12\n",
    "b = 7/11\n",
    "green_red = a*b\n",
    "(green_red)\n",
    "c = 7/12\n",
    "d = 5/11\n",
    "red_green = c*d\n",
    "(red_green)\n",
    "print(green_red + red_green)"
   ]
  },
  {
   "cell_type": "markdown",
   "id": "0d8212f0",
   "metadata": {},
   "source": [
    "# Q8\n",
    "It is 8:5 against the wife who is 40 years old living till she is 70 and 4:3 against her husband now 50 living till he is 80. Find the probability that \n",
    "(i) Both will be alive,\n",
    "(ii) None will be alive,\n",
    "(iii) Only wife will be alive,\n",
    "(iv) Only husband will be alive\n"
   ]
  },
  {
   "cell_type": "code",
   "execution_count": 37,
   "id": "5be24c0a",
   "metadata": {},
   "outputs": [],
   "source": [
    "a = 8/13\n",
    "a_bar = 5/13\n",
    "b = 4/7\n",
    "b_bar = 3/7"
   ]
  },
  {
   "cell_type": "code",
   "execution_count": 38,
   "id": "aadf2cb5",
   "metadata": {},
   "outputs": [
    {
     "data": {
      "text/plain": [
       "0.16483516483516483"
      ]
     },
     "execution_count": 38,
     "metadata": {},
     "output_type": "execute_result"
    }
   ],
   "source": [
    "A_and_B = a_bar * b_bar\n",
    "A_and_B"
   ]
  },
  {
   "cell_type": "code",
   "execution_count": 39,
   "id": "fc5b4330",
   "metadata": {},
   "outputs": [
    {
     "data": {
      "text/plain": [
       "0.3516483516483517"
      ]
     },
     "execution_count": 39,
     "metadata": {},
     "output_type": "execute_result"
    }
   ],
   "source": [
    "not_A_and_B = a * b\n",
    "not_A_and_B"
   ]
  },
  {
   "cell_type": "code",
   "execution_count": 40,
   "id": "99d76562",
   "metadata": {},
   "outputs": [
    {
     "data": {
      "text/plain": [
       "0.2197802197802198"
      ]
     },
     "execution_count": 40,
     "metadata": {},
     "output_type": "execute_result"
    }
   ],
   "source": [
    "only_wife_alive = a_bar - A_and_B\n",
    "only_wife_alive"
   ]
  },
  {
   "cell_type": "code",
   "execution_count": 41,
   "id": "be8b43bb",
   "metadata": {},
   "outputs": [
    {
     "data": {
      "text/plain": [
       "0.2637362637362637"
      ]
     },
     "execution_count": 41,
     "metadata": {},
     "output_type": "execute_result"
    }
   ],
   "source": [
    "only_husband_alive = b_bar - A_and_B\n",
    "only_husband_alive"
   ]
  },
  {
   "cell_type": "markdown",
   "id": "e28597d0",
   "metadata": {},
   "source": [
    "# Q9\n",
    "A bag contains 6 black marbles and 4 blue marbles. Two marbles are drawn from the bag, without replacement. What is the probability that both marbles are blue?"
   ]
  },
  {
   "cell_type": "code",
   "execution_count": 42,
   "id": "aa742484",
   "metadata": {},
   "outputs": [
    {
     "name": "stdout",
     "output_type": "stream",
     "text": [
      "0.13333333333333333\n"
     ]
    }
   ],
   "source": [
    "a = 4/10\n",
    "b = 3/9\n",
    "\n",
    "a_intersection_b = a * b\n",
    "\n",
    "print(a_intersection_b)"
   ]
  },
  {
   "cell_type": "markdown",
   "id": "ab515f1b",
   "metadata": {},
   "source": [
    "# Q10\n",
    "A lot contains  12 items of which 4 are defective.Two items are drawn at random from the lot one after other (without replacement ).find the probability that both the items are defective ."
   ]
  },
  {
   "cell_type": "code",
   "execution_count": 43,
   "id": "1fb0c259",
   "metadata": {},
   "outputs": [
    {
     "data": {
      "text/plain": [
       "0.0909090909090909"
      ]
     },
     "execution_count": 43,
     "metadata": {},
     "output_type": "execute_result"
    }
   ],
   "source": [
    "a = 4/12\n",
    "b = 3/11\n",
    "A_and_B = a * b\n",
    "A_and_B"
   ]
  }
 ],
 "metadata": {
  "kernelspec": {
   "display_name": "Python 3 (ipykernel)",
   "language": "python",
   "name": "python3"
  },
  "language_info": {
   "codemirror_mode": {
    "name": "ipython",
    "version": 3
   },
   "file_extension": ".py",
   "mimetype": "text/x-python",
   "name": "python",
   "nbconvert_exporter": "python",
   "pygments_lexer": "ipython3",
   "version": "3.9.12"
  }
 },
 "nbformat": 4,
 "nbformat_minor": 5
}
